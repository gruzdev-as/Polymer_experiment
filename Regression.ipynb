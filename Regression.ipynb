{
 "metadata": {
  "language_info": {
   "codemirror_mode": {
    "name": "ipython",
    "version": 3
   },
   "file_extension": ".py",
   "mimetype": "text/x-python",
   "name": "python",
   "nbconvert_exporter": "python",
   "pygments_lexer": "ipython3",
   "version": "3.8.10"
  },
  "orig_nbformat": 4,
  "kernelspec": {
   "name": "python3",
   "display_name": "Python 3.8.10 64-bit"
  },
  "interpreter": {
   "hash": "31f2aee4e71d21fbe5cf8b01ff0e069b9275f58929596ceb00d14d90e3e16cd6"
  }
 },
 "nbformat": 4,
 "nbformat_minor": 2,
 "cells": [
  {
   "cell_type": "code",
   "execution_count": 2,
   "source": [
    "import pandas as pd \n",
    "import numpy as np\n",
    "import matplotlib.pyplot as plt \n",
    "import seaborn as sns \n",
    "import os \n"
   ],
   "outputs": [],
   "metadata": {}
  },
  {
   "cell_type": "code",
   "execution_count": 3,
   "source": [
    "data = pd.read_csv('experiment_data.csv', sep=',', index_col=0)"
   ],
   "outputs": [],
   "metadata": {}
  },
  {
   "cell_type": "code",
   "execution_count": 4,
   "source": [
    "data.head()"
   ],
   "outputs": [
    {
     "output_type": "execute_result",
     "data": {
      "text/plain": [
       "      max_force  max_lenght  max_time  section_area  is_valid\n",
       "3-1    922.5591    2.064367    123.86            30     False\n",
       "3-10   871.8252    2.029167    121.75            30      True\n",
       "3-2    879.5913    1.945533    116.73            30      True\n",
       "3-3    831.2734    1.874533    112.47            30      True\n",
       "3-4    810.5214    1.835533    110.13            30     False"
      ],
      "text/html": [
       "<div>\n",
       "<style scoped>\n",
       "    .dataframe tbody tr th:only-of-type {\n",
       "        vertical-align: middle;\n",
       "    }\n",
       "\n",
       "    .dataframe tbody tr th {\n",
       "        vertical-align: top;\n",
       "    }\n",
       "\n",
       "    .dataframe thead th {\n",
       "        text-align: right;\n",
       "    }\n",
       "</style>\n",
       "<table border=\"1\" class=\"dataframe\">\n",
       "  <thead>\n",
       "    <tr style=\"text-align: right;\">\n",
       "      <th></th>\n",
       "      <th>max_force</th>\n",
       "      <th>max_lenght</th>\n",
       "      <th>max_time</th>\n",
       "      <th>section_area</th>\n",
       "      <th>is_valid</th>\n",
       "    </tr>\n",
       "  </thead>\n",
       "  <tbody>\n",
       "    <tr>\n",
       "      <th>3-1</th>\n",
       "      <td>922.5591</td>\n",
       "      <td>2.064367</td>\n",
       "      <td>123.86</td>\n",
       "      <td>30</td>\n",
       "      <td>False</td>\n",
       "    </tr>\n",
       "    <tr>\n",
       "      <th>3-10</th>\n",
       "      <td>871.8252</td>\n",
       "      <td>2.029167</td>\n",
       "      <td>121.75</td>\n",
       "      <td>30</td>\n",
       "      <td>True</td>\n",
       "    </tr>\n",
       "    <tr>\n",
       "      <th>3-2</th>\n",
       "      <td>879.5913</td>\n",
       "      <td>1.945533</td>\n",
       "      <td>116.73</td>\n",
       "      <td>30</td>\n",
       "      <td>True</td>\n",
       "    </tr>\n",
       "    <tr>\n",
       "      <th>3-3</th>\n",
       "      <td>831.2734</td>\n",
       "      <td>1.874533</td>\n",
       "      <td>112.47</td>\n",
       "      <td>30</td>\n",
       "      <td>True</td>\n",
       "    </tr>\n",
       "    <tr>\n",
       "      <th>3-4</th>\n",
       "      <td>810.5214</td>\n",
       "      <td>1.835533</td>\n",
       "      <td>110.13</td>\n",
       "      <td>30</td>\n",
       "      <td>False</td>\n",
       "    </tr>\n",
       "  </tbody>\n",
       "</table>\n",
       "</div>"
      ]
     },
     "metadata": {},
     "execution_count": 4
    }
   ],
   "metadata": {}
  },
  {
   "cell_type": "code",
   "execution_count": 5,
   "source": [
    "from sklearn.linear_model import LinearRegression"
   ],
   "outputs": [],
   "metadata": {}
  },
  {
   "cell_type": "code",
   "execution_count": 9,
   "source": [
    "train_data = data.drop(data[data.section_area == 70].index)\n",
    "train_data = train_data.drop(train_data[data.section_area == 60].index)"
   ],
   "outputs": [
    {
     "output_type": "stream",
     "name": "stderr",
     "text": [
      "<ipython-input-9-988a9683d393>:2: UserWarning: Boolean Series key will be reindexed to match DataFrame index.\n",
      "  train_data = train_data.drop(train_data[data.section_area == 60].index)\n"
     ]
    },
    {
     "output_type": "execute_result",
     "data": {
      "text/plain": [
       "      max_force  max_lenght  max_time  section_area  is_valid\n",
       "3-1    922.5591    2.064367    123.86            30     False\n",
       "3-10   871.8252    2.029167    121.75            30      True\n",
       "3-2    879.5913    1.945533    116.73            30      True\n",
       "3-3    831.2734    1.874533    112.47            30      True\n",
       "3-4    810.5214    1.835533    110.13            30     False\n",
       "3-5    826.3668    1.999033    119.94            30      True\n",
       "3-6    834.9133    1.857400    111.44            30     False\n",
       "3-7    907.3512    2.056533    123.39            30     False\n",
       "3-8    926.6042    2.097533    125.85            30     False\n",
       "3-9    871.9587    1.943533    116.61            30      True\n",
       "4-1   1032.5860    2.087867    125.27            40     False\n",
       "4-2   1000.3650    1.907700    114.46            40      True\n",
       "5-1   1406.2260    2.587367    155.24            50     False\n",
       "5-10  1385.7630    2.580033    154.80            50      True\n",
       "5-2   1308.4440    2.331033    139.86            50     False\n",
       "5-3   1337.1210    2.347167    140.83            50     False\n",
       "5-4   1458.0350    2.660700    159.64            50     False\n",
       "5-5   1391.2260    2.514367    150.86            50     False\n",
       "5-6   1357.4710    2.421067    145.26            50      True\n",
       "5-7   1414.9570    2.506400    150.38            50      True\n",
       "5-8   1367.8680    2.397867    143.87            50     False\n",
       "5-9   1360.9350    2.478367    148.70            50     False"
      ],
      "text/html": [
       "<div>\n",
       "<style scoped>\n",
       "    .dataframe tbody tr th:only-of-type {\n",
       "        vertical-align: middle;\n",
       "    }\n",
       "\n",
       "    .dataframe tbody tr th {\n",
       "        vertical-align: top;\n",
       "    }\n",
       "\n",
       "    .dataframe thead th {\n",
       "        text-align: right;\n",
       "    }\n",
       "</style>\n",
       "<table border=\"1\" class=\"dataframe\">\n",
       "  <thead>\n",
       "    <tr style=\"text-align: right;\">\n",
       "      <th></th>\n",
       "      <th>max_force</th>\n",
       "      <th>max_lenght</th>\n",
       "      <th>max_time</th>\n",
       "      <th>section_area</th>\n",
       "      <th>is_valid</th>\n",
       "    </tr>\n",
       "  </thead>\n",
       "  <tbody>\n",
       "    <tr>\n",
       "      <th>3-1</th>\n",
       "      <td>922.5591</td>\n",
       "      <td>2.064367</td>\n",
       "      <td>123.86</td>\n",
       "      <td>30</td>\n",
       "      <td>False</td>\n",
       "    </tr>\n",
       "    <tr>\n",
       "      <th>3-10</th>\n",
       "      <td>871.8252</td>\n",
       "      <td>2.029167</td>\n",
       "      <td>121.75</td>\n",
       "      <td>30</td>\n",
       "      <td>True</td>\n",
       "    </tr>\n",
       "    <tr>\n",
       "      <th>3-2</th>\n",
       "      <td>879.5913</td>\n",
       "      <td>1.945533</td>\n",
       "      <td>116.73</td>\n",
       "      <td>30</td>\n",
       "      <td>True</td>\n",
       "    </tr>\n",
       "    <tr>\n",
       "      <th>3-3</th>\n",
       "      <td>831.2734</td>\n",
       "      <td>1.874533</td>\n",
       "      <td>112.47</td>\n",
       "      <td>30</td>\n",
       "      <td>True</td>\n",
       "    </tr>\n",
       "    <tr>\n",
       "      <th>3-4</th>\n",
       "      <td>810.5214</td>\n",
       "      <td>1.835533</td>\n",
       "      <td>110.13</td>\n",
       "      <td>30</td>\n",
       "      <td>False</td>\n",
       "    </tr>\n",
       "    <tr>\n",
       "      <th>3-5</th>\n",
       "      <td>826.3668</td>\n",
       "      <td>1.999033</td>\n",
       "      <td>119.94</td>\n",
       "      <td>30</td>\n",
       "      <td>True</td>\n",
       "    </tr>\n",
       "    <tr>\n",
       "      <th>3-6</th>\n",
       "      <td>834.9133</td>\n",
       "      <td>1.857400</td>\n",
       "      <td>111.44</td>\n",
       "      <td>30</td>\n",
       "      <td>False</td>\n",
       "    </tr>\n",
       "    <tr>\n",
       "      <th>3-7</th>\n",
       "      <td>907.3512</td>\n",
       "      <td>2.056533</td>\n",
       "      <td>123.39</td>\n",
       "      <td>30</td>\n",
       "      <td>False</td>\n",
       "    </tr>\n",
       "    <tr>\n",
       "      <th>3-8</th>\n",
       "      <td>926.6042</td>\n",
       "      <td>2.097533</td>\n",
       "      <td>125.85</td>\n",
       "      <td>30</td>\n",
       "      <td>False</td>\n",
       "    </tr>\n",
       "    <tr>\n",
       "      <th>3-9</th>\n",
       "      <td>871.9587</td>\n",
       "      <td>1.943533</td>\n",
       "      <td>116.61</td>\n",
       "      <td>30</td>\n",
       "      <td>True</td>\n",
       "    </tr>\n",
       "    <tr>\n",
       "      <th>4-1</th>\n",
       "      <td>1032.5860</td>\n",
       "      <td>2.087867</td>\n",
       "      <td>125.27</td>\n",
       "      <td>40</td>\n",
       "      <td>False</td>\n",
       "    </tr>\n",
       "    <tr>\n",
       "      <th>4-2</th>\n",
       "      <td>1000.3650</td>\n",
       "      <td>1.907700</td>\n",
       "      <td>114.46</td>\n",
       "      <td>40</td>\n",
       "      <td>True</td>\n",
       "    </tr>\n",
       "    <tr>\n",
       "      <th>5-1</th>\n",
       "      <td>1406.2260</td>\n",
       "      <td>2.587367</td>\n",
       "      <td>155.24</td>\n",
       "      <td>50</td>\n",
       "      <td>False</td>\n",
       "    </tr>\n",
       "    <tr>\n",
       "      <th>5-10</th>\n",
       "      <td>1385.7630</td>\n",
       "      <td>2.580033</td>\n",
       "      <td>154.80</td>\n",
       "      <td>50</td>\n",
       "      <td>True</td>\n",
       "    </tr>\n",
       "    <tr>\n",
       "      <th>5-2</th>\n",
       "      <td>1308.4440</td>\n",
       "      <td>2.331033</td>\n",
       "      <td>139.86</td>\n",
       "      <td>50</td>\n",
       "      <td>False</td>\n",
       "    </tr>\n",
       "    <tr>\n",
       "      <th>5-3</th>\n",
       "      <td>1337.1210</td>\n",
       "      <td>2.347167</td>\n",
       "      <td>140.83</td>\n",
       "      <td>50</td>\n",
       "      <td>False</td>\n",
       "    </tr>\n",
       "    <tr>\n",
       "      <th>5-4</th>\n",
       "      <td>1458.0350</td>\n",
       "      <td>2.660700</td>\n",
       "      <td>159.64</td>\n",
       "      <td>50</td>\n",
       "      <td>False</td>\n",
       "    </tr>\n",
       "    <tr>\n",
       "      <th>5-5</th>\n",
       "      <td>1391.2260</td>\n",
       "      <td>2.514367</td>\n",
       "      <td>150.86</td>\n",
       "      <td>50</td>\n",
       "      <td>False</td>\n",
       "    </tr>\n",
       "    <tr>\n",
       "      <th>5-6</th>\n",
       "      <td>1357.4710</td>\n",
       "      <td>2.421067</td>\n",
       "      <td>145.26</td>\n",
       "      <td>50</td>\n",
       "      <td>True</td>\n",
       "    </tr>\n",
       "    <tr>\n",
       "      <th>5-7</th>\n",
       "      <td>1414.9570</td>\n",
       "      <td>2.506400</td>\n",
       "      <td>150.38</td>\n",
       "      <td>50</td>\n",
       "      <td>True</td>\n",
       "    </tr>\n",
       "    <tr>\n",
       "      <th>5-8</th>\n",
       "      <td>1367.8680</td>\n",
       "      <td>2.397867</td>\n",
       "      <td>143.87</td>\n",
       "      <td>50</td>\n",
       "      <td>False</td>\n",
       "    </tr>\n",
       "    <tr>\n",
       "      <th>5-9</th>\n",
       "      <td>1360.9350</td>\n",
       "      <td>2.478367</td>\n",
       "      <td>148.70</td>\n",
       "      <td>50</td>\n",
       "      <td>False</td>\n",
       "    </tr>\n",
       "  </tbody>\n",
       "</table>\n",
       "</div>"
      ]
     },
     "metadata": {},
     "execution_count": 9
    }
   ],
   "metadata": {}
  },
  {
   "cell_type": "code",
   "execution_count": 8,
   "source": [
    "X_train = train_data.section_area\n",
    "X_train = X_train.values\n",
    "X_train = X_train.reshape(-1, 1)\n",
    "X_train"
   ],
   "outputs": [
    {
     "output_type": "execute_result",
     "data": {
      "text/plain": [
       "array([[30],\n",
       "       [30],\n",
       "       [30],\n",
       "       [30],\n",
       "       [30],\n",
       "       [30],\n",
       "       [30],\n",
       "       [30],\n",
       "       [30],\n",
       "       [30],\n",
       "       [40],\n",
       "       [40],\n",
       "       [50],\n",
       "       [50],\n",
       "       [50],\n",
       "       [50],\n",
       "       [50],\n",
       "       [50],\n",
       "       [50],\n",
       "       [50],\n",
       "       [50],\n",
       "       [50]])"
      ]
     },
     "metadata": {},
     "execution_count": 8
    }
   ],
   "metadata": {}
  },
  {
   "cell_type": "code",
   "execution_count": 7,
   "source": [
    "y_train = train_data.max_force\n",
    "y_train"
   ],
   "outputs": [
    {
     "output_type": "execute_result",
     "data": {
      "text/plain": [
       "3-1      922.5591\n",
       "3-10     871.8252\n",
       "3-2      879.5913\n",
       "3-3      831.2734\n",
       "3-4      810.5214\n",
       "3-5      826.3668\n",
       "3-6      834.9133\n",
       "3-7      907.3512\n",
       "3-8      926.6042\n",
       "3-9      871.9587\n",
       "4-1     1032.5860\n",
       "4-2     1000.3650\n",
       "5-1     1406.2260\n",
       "5-10    1385.7630\n",
       "5-2     1308.4440\n",
       "5-3     1337.1210\n",
       "5-4     1458.0350\n",
       "5-5     1391.2260\n",
       "5-6     1357.4710\n",
       "5-7     1414.9570\n",
       "5-8     1367.8680\n",
       "5-9     1360.9350\n",
       "Name: max_force, dtype: float64"
      ]
     },
     "metadata": {},
     "execution_count": 7
    }
   ],
   "metadata": {}
  },
  {
   "cell_type": "code",
   "execution_count": 8,
   "source": [
    "regression = LinearRegression().fit(X_train, y_train)"
   ],
   "outputs": [],
   "metadata": {}
  },
  {
   "cell_type": "code",
   "execution_count": 9,
   "source": [
    "regression.coef_"
   ],
   "outputs": [
    {
     "output_type": "execute_result",
     "data": {
      "text/plain": [
       "array([25.525407])"
      ]
     },
     "metadata": {},
     "execution_count": 9
    }
   ],
   "metadata": {}
  },
  {
   "cell_type": "code",
   "execution_count": 10,
   "source": [
    "regression.intercept_"
   ],
   "outputs": [
    {
     "output_type": "execute_result",
     "data": {
      "text/plain": [
       "92.80015636363635"
      ]
     },
     "metadata": {},
     "execution_count": 10
    }
   ],
   "metadata": {}
  },
  {
   "cell_type": "code",
   "execution_count": 11,
   "source": [
    "X_test = data[(data.section_area == 60) | (data.section_area == 70)].section_area.values\n",
    "X_test = X_test.reshape(-1, 1)"
   ],
   "outputs": [],
   "metadata": {}
  },
  {
   "cell_type": "code",
   "execution_count": 12,
   "source": [
    "y_predicted = regression.predict(X_test)\n",
    "y_predicted"
   ],
   "outputs": [
    {
     "output_type": "execute_result",
     "data": {
      "text/plain": [
       "array([1624.32457636, 1624.32457636, 1624.32457636, 1624.32457636,\n",
       "       1624.32457636, 1624.32457636, 1624.32457636, 1624.32457636,\n",
       "       1624.32457636, 1624.32457636, 1879.57864636, 1879.57864636,\n",
       "       1879.57864636, 1879.57864636, 1879.57864636, 1879.57864636,\n",
       "       1879.57864636, 1879.57864636, 1879.57864636, 1879.57864636])"
      ]
     },
     "metadata": {},
     "execution_count": 12
    }
   ],
   "metadata": {}
  },
  {
   "cell_type": "code",
   "execution_count": 13,
   "source": [
    "y_true = data[(data.section_area == 60) | (data.section_area == 70)].max_force.values\n",
    "y_true"
   ],
   "outputs": [
    {
     "output_type": "execute_result",
     "data": {
      "text/plain": [
       "array([1636.944, 1591.741, 1672.614, 1667.053, 1734.743, 1685.746,\n",
       "       1590.516, 1576.301, 1617.316, 1564.711, 1865.088, 1829.489,\n",
       "       1815.942, 1891.834, 1828.607, 1792.026, 1877.844, 1821.631,\n",
       "       1783.597, 1818.671])"
      ]
     },
     "metadata": {},
     "execution_count": 13
    }
   ],
   "metadata": {}
  },
  {
   "cell_type": "code",
   "execution_count": 14,
   "source": [
    "from sklearn.metrics import r2_score"
   ],
   "outputs": [],
   "metadata": {}
  },
  {
   "cell_type": "code",
   "execution_count": 15,
   "source": [
    "y_true"
   ],
   "outputs": [
    {
     "output_type": "execute_result",
     "data": {
      "text/plain": [
       "array([1636.944, 1591.741, 1672.614, 1667.053, 1734.743, 1685.746,\n",
       "       1590.516, 1576.301, 1617.316, 1564.711, 1865.088, 1829.489,\n",
       "       1815.942, 1891.834, 1828.607, 1792.026, 1877.844, 1821.631,\n",
       "       1783.597, 1818.671])"
      ]
     },
     "metadata": {},
     "execution_count": 15
    }
   ],
   "metadata": {}
  },
  {
   "cell_type": "code",
   "execution_count": 16,
   "source": [
    "y_predicted"
   ],
   "outputs": [
    {
     "output_type": "execute_result",
     "data": {
      "text/plain": [
       "array([1624.32457636, 1624.32457636, 1624.32457636, 1624.32457636,\n",
       "       1624.32457636, 1624.32457636, 1624.32457636, 1624.32457636,\n",
       "       1624.32457636, 1624.32457636, 1879.57864636, 1879.57864636,\n",
       "       1879.57864636, 1879.57864636, 1879.57864636, 1879.57864636,\n",
       "       1879.57864636, 1879.57864636, 1879.57864636, 1879.57864636])"
      ]
     },
     "metadata": {},
     "execution_count": 16
    }
   ],
   "metadata": {}
  },
  {
   "cell_type": "code",
   "execution_count": 17,
   "source": [
    "r2_score(y_pred=y_predicted, y_true=y_true)"
   ],
   "outputs": [
    {
     "output_type": "execute_result",
     "data": {
      "text/plain": [
       "0.738095438954656"
      ]
     },
     "metadata": {},
     "execution_count": 17
    }
   ],
   "metadata": {}
  },
  {
   "cell_type": "code",
   "execution_count": 18,
   "source": [
    "y_true.mean()"
   ],
   "outputs": [
    {
     "output_type": "execute_result",
     "data": {
      "text/plain": [
       "1733.1207000000002"
      ]
     },
     "metadata": {},
     "execution_count": 18
    }
   ],
   "metadata": {}
  },
  {
   "cell_type": "code",
   "execution_count": null,
   "source": [],
   "outputs": [],
   "metadata": {}
  }
 ]
}